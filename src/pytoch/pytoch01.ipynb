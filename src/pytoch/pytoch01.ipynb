{
  "nbformat": 4,
  "nbformat_minor": 0,
  "metadata": {
    "colab": {
      "provenance": [],
      "authorship_tag": "ABX9TyOKsmc9BMOVHMVof3YTiPfk",
      "include_colab_link": true
    },
    "kernelspec": {
      "name": "python3",
      "display_name": "Python 3"
    },
    "language_info": {
      "name": "python"
    }
  },
  "cells": [
    {
      "cell_type": "markdown",
      "metadata": {
        "id": "view-in-github",
        "colab_type": "text"
      },
      "source": [
        "<a href=\"https://colab.research.google.com/github/kyunghyunHan/deep_learning/blob/main/src/pytoch/pytoch01.ipynb\" target=\"_parent\"><img src=\"https://colab.research.google.com/assets/colab-badge.svg\" alt=\"Open In Colab\"/></a>"
      ]
    },
    {
      "cell_type": "code",
      "execution_count": null,
      "metadata": {
        "id": "wCG0WCHI5EsK"
      },
      "outputs": [],
      "source": []
    },
    {
      "cell_type": "code",
      "source": [
        "from google.colab import drive\n",
        "drive.mount('/content/drive')"
      ],
      "metadata": {
        "colab": {
          "base_uri": "https://localhost:8080/"
        },
        "id": "yBglOpBK5Xeu",
        "outputId": "33278729-e2f8-42c5-c4f1-182e213d912d"
      },
      "execution_count": null,
      "outputs": [
        {
          "output_type": "stream",
          "name": "stdout",
          "text": [
            "Mounted at /content/drive\n"
          ]
        }
      ]
    },
    {
      "cell_type": "code",
      "source": [
        "import torch\n",
        "\n",
        "a= torch.tensor([1,2,3])\n",
        "b= torch.tensor([4,5,6])\n",
        "c= a+b\n",
        "print(c)\n"
      ],
      "metadata": {
        "colab": {
          "base_uri": "https://localhost:8080/"
        },
        "id": "gDB1eRJS50-N",
        "outputId": "949af057-e630-419b-c175-a219093daf9d"
      },
      "execution_count": null,
      "outputs": [
        {
          "output_type": "stream",
          "name": "stdout",
          "text": [
            "tensor([5, 7, 9])\n"
          ]
        }
      ]
    },
    {
      "cell_type": "code",
      "source": [
        "# 파이토치의 신경망의 기본구성\n",
        "class Net(torch.nn.Module):\n",
        "    def __init__(self):\n",
        "    # 신경망의 구성요소 정의\n",
        "\n",
        "\n",
        "     def forward(self,input):\n",
        "    #신경망의동작정의\n",
        "      return output\n"
      ],
      "metadata": {
        "id": "hKwyHI0Q6L4Y"
      },
      "execution_count": null,
      "outputs": []
    },
    {
      "cell_type": "code",
      "source": [
        "class Dataset():\n",
        "  def __init__(self):## 학습에 사용할 데이터 불로오기\n",
        "\n",
        "\n",
        "   def __len__(self):#데이터 개수반환\n",
        "    return len(data)\n",
        "\n",
        "  def __getitem__(self,i): #i번쨰 입력데이터와 정답을 반환\n",
        "    return data[i],label[i]"
      ],
      "metadata": {
        "id": "K6e1ZLNc7XYt"
      },
      "execution_count": null,
      "outputs": []
    },
    {
      "cell_type": "code",
      "source": [
        "#데이터로부터 데이터와 정답을 받아옴\n",
        "# for data,label in DataLoader():\n",
        "#     prediction = model(data)\n",
        "\n",
        "#   #손실함수를 이용 오차계산\n",
        "\n",
        "#     loss= LossFunction(prediction,label)\n",
        "#     loss.backward()\n",
        "#     optimizer.step()"
      ],
      "metadata": {
        "id": "bysYg3Cy7-ET"
      },
      "execution_count": 14,
      "outputs": []
    },
    {
      "cell_type": "code",
      "source": [
        "import numpy as np\n",
        "import matplotlib.pyplot as plt\n",
        "\n",
        "t= np.arange(0,5,0.2)\n",
        "t2= t**2\n",
        "t3= t**3\n",
        "\n",
        "mu,sigma = 100,15\n",
        "x= mu +sigma*np.random.randn(10000)\n",
        "\n",
        "plt.plot(t,t2,label='t2')\n",
        "plt.plot(t,t3,label='t3')\n",
        "plt.title(\"show 2 plots in 1 figure\")\n",
        "plt.legend()\n",
        "plt.show()"
      ],
      "metadata": {
        "id": "ZZ9Wjf2B8D1c",
        "colab": {
          "base_uri": "https://localhost:8080/",
          "height": 452
        },
        "outputId": "acc7413e-04ba-42f0-eb0e-5cdfe684c90d"
      },
      "execution_count": 17,
      "outputs": [
        {
          "output_type": "display_data",
          "data": {
            "text/plain": [
              "<Figure size 640x480 with 1 Axes>"
            ],
            "image/png": "[encoded data removed]"
          },
          "metadata": {}
        }
      ]
    }
  ]
}